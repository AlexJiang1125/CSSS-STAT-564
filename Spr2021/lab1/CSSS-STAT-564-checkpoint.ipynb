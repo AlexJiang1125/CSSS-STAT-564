{
 "cells": [
  {
   "cell_type": "markdown",
   "id": "coordinate-costa",
   "metadata": {},
   "source": [
    "## Running an rstan example\n",
    "\n"
   ]
  },
  {
   "cell_type": "code",
   "execution_count": 1,
   "id": "future-mediterranean",
   "metadata": {},
   "outputs": [
    {
     "name": "stderr",
     "output_type": "stream",
     "text": [
      "Warning message:\n",
      "\"package 'rstan' was built under R version 3.6.3\"Loading required package: StanHeaders\n",
      "Warning message:\n",
      "\"package 'StanHeaders' was built under R version 3.6.2\"Loading required package: ggplot2\n",
      "Warning message:\n",
      "\"package 'ggplot2' was built under R version 3.6.3\"rstan (Version 2.19.3, GitRev: 2e1f913d3ca3)\n",
      "For execution on a local, multicore CPU with excess RAM we recommend calling\n",
      "options(mc.cores = parallel::detectCores()).\n",
      "To avoid recompilation of unchanged Stan programs, we recommend calling\n",
      "rstan_options(auto_write = TRUE)\n",
      "For improved execution time, we recommend calling\n",
      "Sys.setenv(LOCAL_CPPFLAGS = '-march=corei7 -mtune=corei7')\n",
      "although this causes Stan to throw an error on a few processors.\n"
     ]
    }
   ],
   "source": [
    "library(rstan)"
   ]
  },
  {
   "cell_type": "code",
   "execution_count": 2,
   "id": "deadly-overall",
   "metadata": {},
   "outputs": [
    {
     "name": "stderr",
     "output_type": "stream",
     "text": [
      "Warning message in normalizePath(path.expand(path), winslash, mustWork):\n",
      "\"path[1]=\"stan/8schools.stan\": ???????????\"Warning message in file(fname, \"rt\"):\n",
      "\"cannot open file 'C:\\Users\\00000\\stan\\8schools.stan': No such file or directory\""
     ]
    },
    {
     "name": "stdout",
     "output_type": "stream",
     "text": [
      "Error in file(fname, \"rt\") : cannot open the connection\n"
     ]
    },
    {
     "ename": "ERROR",
     "evalue": "Error in get_model_strcode(file, model_code): cannot open model file \"C:\\Users\\00000\\stan\\8schools.stan\"\n",
     "output_type": "error",
     "traceback": [
      "Error in get_model_strcode(file, model_code): cannot open model file \"C:\\Users\\00000\\stan\\8schools.stan\"\nTraceback:\n",
      "1. stan(file = \"stan/8schools.stan\", data = schools_dat)",
      "2. stan_model(file, model_name = model_name, model_code = model_code, \n .     stanc_ret = NULL, boost_lib = boost_lib, eigen_lib = eigen_lib, \n .     save_dso = save_dso, verbose = verbose)",
      "3. stanc(file = file, model_code = model_code, model_name = model_name, \n .     verbose = verbose, obfuscate_model_name = obfuscate_model_name, \n .     allow_undefined = allow_undefined, isystem = isystem)",
      "4. get_model_strcode(file, model_code)",
      "5. stop(paste(\"cannot open model file \\\"\", fname, \"\\\"\", sep = \"\"))"
     ]
    }
   ],
   "source": [
    "schools_dat <- list(J = 8, \n",
    "                    y = c(28,  8, -3,  7, -1,  1, 18, 12),\n",
    "                    sigma = c(15, 10, 16, 11,  9, 11, 10, 18))\n",
    "fit <- stan(file = \"stan/8schools.stan\", data = schools_dat)"
   ]
  },
  {
   "cell_type": "code",
   "execution_count": null,
   "id": "ecological-header",
   "metadata": {},
   "outputs": [],
   "source": []
  }
 ],
 "metadata": {
  "kernelspec": {
   "display_name": "R",
   "language": "R",
   "name": "ir"
  },
  "language_info": {
   "codemirror_mode": "r",
   "file_extension": ".r",
   "mimetype": "text/x-r-source",
   "name": "R",
   "pygments_lexer": "r",
   "version": "3.6.1"
  }
 },
 "nbformat": 4,
 "nbformat_minor": 5
}
