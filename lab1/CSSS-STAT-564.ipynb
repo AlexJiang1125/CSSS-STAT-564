{
 "cells": [
  {
   "cell_type": "markdown",
   "id": "amended-madness",
   "metadata": {},
   "source": [
    "## Running an rstan example\n",
    "\n"
   ]
  },
  {
   "cell_type": "code",
   "execution_count": 3,
   "id": "dressed-spice",
   "metadata": {},
   "outputs": [],
   "source": [
    "library(rstan)"
   ]
  },
  {
   "cell_type": "code",
   "execution_count": 6,
   "id": "caring-premiere",
   "metadata": {},
   "outputs": [
    {
     "name": "stderr",
     "output_type": "stream",
     "text": [
      "Warning message in normalizePath(path.expand(path), winslash, mustWork):\n",
      "\"path[1]=\"./stan/8schools.stan\": ???????????\"Warning message in file(fname, \"rt\"):\n",
      "\"cannot open file 'C:\\Users\\00000\\stan\\8schools.stan': No such file or directory\""
     ]
    },
    {
     "name": "stdout",
     "output_type": "stream",
     "text": [
      "Error in file(fname, \"rt\") : cannot open the connection\n"
     ]
    },
    {
     "ename": "ERROR",
     "evalue": "Error in get_model_strcode(file, model_code): cannot open model file \"C:\\Users\\00000\\stan\\8schools.stan\"\n",
     "output_type": "error",
     "traceback": [
      "Error in get_model_strcode(file, model_code): cannot open model file \"C:\\Users\\00000\\stan\\8schools.stan\"\nTraceback:\n",
      "1. stan(file = \"./stan/8schools.stan\", data = schools_dat)",
      "2. stan_model(file, model_name = model_name, model_code = model_code, \n .     stanc_ret = NULL, boost_lib = boost_lib, eigen_lib = eigen_lib, \n .     save_dso = save_dso, verbose = verbose)",
      "3. stanc(file = file, model_code = model_code, model_name = model_name, \n .     verbose = verbose, obfuscate_model_name = obfuscate_model_name, \n .     allow_undefined = allow_undefined, isystem = isystem)",
      "4. get_model_strcode(file, model_code)",
      "5. stop(paste(\"cannot open model file \\\"\", fname, \"\\\"\", sep = \"\"))"
     ]
    }
   ],
   "source": [
    "setwd()\n",
    "schools_dat <- list(J = 8, \n",
    "                    y = c(28,  8, -3,  7, -1,  1, 18, 12),\n",
    "                    sigma = c(15, 10, 16, 11,  9, 11, 10, 18))\n",
    "fit <- stan(file = \"./stan/8schools.stan\", data = schools_dat)"
   ]
  },
  {
   "cell_type": "code",
   "execution_count": null,
   "id": "divided-scanner",
   "metadata": {},
   "outputs": [],
   "source": []
  }
 ],
 "metadata": {
  "kernelspec": {
   "display_name": "R",
   "language": "R",
   "name": "ir"
  },
  "language_info": {
   "codemirror_mode": "r",
   "file_extension": ".r",
   "mimetype": "text/x-r-source",
   "name": "R",
   "pygments_lexer": "r",
   "version": "3.6.1"
  }
 },
 "nbformat": 4,
 "nbformat_minor": 5
}
